{
 "cells": [
  {
   "cell_type": "markdown",
   "id": "f42b5a73",
   "metadata": {},
   "source": [
    "# 🤖 Multilayer Perceptron\n",
    "\n",
    "Esta Jupyter Notebook implementa una MLP para detectar patrones en una matriz 10x10.\n",
    "Se genera un dataset para luego entrenar el modelo y validarlo.\n",
    "Se evalúa la precisión para reiterar sobre el modelo con el objetivo de mejorar su eficacia.\n",
    "Finalmente se exporta el modelo para ser utilizado en la aplicación web.\n"
   ]
  },
  {
   "cell_type": "markdown",
   "id": "a941e0c6",
   "metadata": {
    "vscode": {
     "languageId": "plaintext"
    }
   },
   "source": [
    "## 📋 Situación\n",
    "\n",
    "En una matriz 10x10 se debe poder detectar las letras `b`, `d`, `f` que se corresponden a los siguientes patrones:\n",
    "\n",
    "![Patrones que el MLP deberá reconocer](assets/patterns.png)\n",
    "\n",
    "Ante un dato nuevo, el MLP deberá ser capaz de clasificar el contenido de esa matriz en uno de los tres patrones.\n"
   ]
  },
  {
   "cell_type": "markdown",
   "id": "5c64b1e6",
   "metadata": {},
   "source": [
    "## 🗃️ Dataset\n",
    "\n",
    "Conviene generar el conjunto de datos de manera programática.\n",
    "Los datasets deberán ser representativos a la hora de definir la distribución de los ejemplos de entrenamiento.\n",
    "Se definen los patrones 'b', 'd', y 'f'.\n",
    "Luego, se crea una función `generate_sample` que crea un ejemplo de un patrón dado con una distorsión entre 0 y 0.3. \n"
   ]
  },
  {
   "cell_type": "code",
   "execution_count": 37,
   "id": "c45330a4",
   "metadata": {},
   "outputs": [
    {
     "name": "stdout",
     "output_type": "stream",
     "text": [
      "A 'b' pattern with zero noise:\n",
      "[[0 0 0 0 0 0 0 0 0 0]\n",
      " [0 0 0 0 0 0 0 1 0 0]\n",
      " [0 0 0 0 0 0 0 1 0 0]\n",
      " [0 0 0 0 0 0 0 1 0 0]\n",
      " [0 0 0 1 1 1 1 1 0 0]\n",
      " [0 0 1 0 0 0 0 1 0 0]\n",
      " [0 0 1 0 0 0 0 1 0 0]\n",
      " [0 0 1 0 0 0 0 1 0 0]\n",
      " [0 0 0 1 1 1 1 1 0 0]\n",
      " [0 0 0 0 0 0 0 0 0 0]]\n",
      "\n",
      "A 'b' with 30% noise, meaning 30 out of 100 cells have been randomly flipped:\n",
      "[[0 0 1 0 0 0 0 1 0 0]\n",
      " [0 0 0 1 0 1 0 1 1 0]\n",
      " [0 0 0 0 0 0 0 0 0 0]\n",
      " [0 1 0 0 1 0 0 1 0 0]\n",
      " [1 0 0 0 1 0 0 1 1 0]\n",
      " [0 0 1 1 0 1 0 1 1 1]\n",
      " [0 0 0 0 0 0 0 1 1 0]\n",
      " [0 1 0 0 0 0 0 0 0 0]\n",
      " [0 1 0 0 1 1 1 0 0 0]\n",
      " [0 0 1 0 0 1 1 1 1 0]]\n"
     ]
    }
   ],
   "source": [
    "import numpy as np\n",
    "\n",
    "# Define the 10x10 patterns for 'b', 'd', and 'f'\n",
    "PATTERNS = {\n",
    "    \"b\": np.array(\n",
    "        [\n",
    "            [0, 0, 0, 0, 0, 0, 0, 0, 0, 0],\n",
    "            [0, 0, 1, 0, 0, 0, 0, 0, 0, 0],\n",
    "            [0, 0, 1, 0, 0, 0, 0, 0, 0, 0],\n",
    "            [0, 0, 1, 0, 0, 0, 0, 0, 0, 0],\n",
    "            [0, 0, 1, 1, 1, 1, 1, 0, 0, 0],\n",
    "            [0, 0, 1, 0, 0, 0, 0, 1, 0, 0],\n",
    "            [0, 0, 1, 0, 0, 0, 0, 1, 0, 0],\n",
    "            [0, 0, 1, 0, 0, 0, 0, 1, 0, 0],\n",
    "            [0, 0, 1, 1, 1, 1, 1, 0, 0, 0],\n",
    "            [0, 0, 0, 0, 0, 0, 0, 0, 0, 0],\n",
    "        ],\n",
    "        dtype=np.uint8,\n",
    "    ),\n",
    "    \"d\": np.array(\n",
    "        [\n",
    "            [0, 0, 0, 0, 0, 0, 0, 0, 0, 0],\n",
    "            [0, 0, 0, 0, 0, 0, 0, 1, 0, 0],\n",
    "            [0, 0, 0, 0, 0, 0, 0, 1, 0, 0],\n",
    "            [0, 0, 0, 0, 0, 0, 0, 1, 0, 0],\n",
    "            [0, 0, 0, 1, 1, 1, 1, 1, 0, 0],\n",
    "            [0, 0, 1, 0, 0, 0, 0, 1, 0, 0],\n",
    "            [0, 0, 1, 0, 0, 0, 0, 1, 0, 0],\n",
    "            [0, 0, 1, 0, 0, 0, 0, 1, 0, 0],\n",
    "            [0, 0, 0, 1, 1, 1, 1, 1, 0, 0],\n",
    "            [0, 0, 0, 0, 0, 0, 0, 0, 0, 0],\n",
    "        ],\n",
    "        dtype=np.uint8,\n",
    "    ),\n",
    "    \"f\": np.array(\n",
    "        [\n",
    "            [0, 0, 0, 0, 0, 0, 0, 0, 0, 0],\n",
    "            [0, 0, 0, 0, 0, 1, 1, 0, 0, 0],\n",
    "            [0, 0, 0, 0, 1, 0, 0, 1, 0, 0],\n",
    "            [0, 0, 0, 0, 1, 0, 0, 0, 0, 0],\n",
    "            [0, 0, 1, 1, 1, 1, 1, 0, 0, 0],\n",
    "            [0, 0, 0, 0, 1, 0, 0, 0, 0, 0],\n",
    "            [0, 0, 0, 0, 1, 0, 0, 0, 0, 0],\n",
    "            [0, 0, 0, 0, 1, 0, 0, 0, 0, 0],\n",
    "            [0, 0, 0, 0, 1, 0, 0, 0, 0, 0],\n",
    "            [0, 0, 0, 0, 0, 0, 0, 0, 0, 0],\n",
    "        ],\n",
    "        dtype=np.uint8,\n",
    "    ),\n",
    "}\n",
    "\n",
    "\n",
    "def generate_sample(pattern: np.ndarray[np.ndarray[int]], noise=0.0):\n",
    "    \"\"\"\n",
    "    Generates a 10x10 matrix based on a given pattern letter ('b', 'd', or 'f'), with optional noise.\n",
    "    Args:\n",
    "        pattern (str): One of 'b', 'd', or 'f'.\n",
    "        noise (float): Proportion of pixels to flip.\n",
    "    Returns:\n",
    "        np.ndarray: A 10x10 numpy array with the pattern and noise applied.\n",
    "    \"\"\"\n",
    "    assert pattern in PATTERNS, \"Pattern must be one of 'b', 'd', or 'f'\"\n",
    "    assert 0.0 <= noise <= 0.30, \"Noise must be between 0.0 and 0.30\"\n",
    "\n",
    "    matrix = PATTERNS[pattern].copy()\n",
    "    num_pixels = matrix.size\n",
    "    num_noisy = int(noise * num_pixels)\n",
    "\n",
    "    if num_noisy > 0:\n",
    "        # Choose random indices to flip\n",
    "        indices = np.unravel_index(\n",
    "            np.random.choice(num_pixels, num_noisy, replace=False), matrix.shape\n",
    "        )\n",
    "        # Flip the selected pixels (0->1, 1->0)\n",
    "        matrix[indices] = 1 - matrix[indices]\n",
    "\n",
    "    return matrix\n",
    "\n",
    "\n",
    "print(\"A 'b' pattern with zero noise:\")\n",
    "print(generate_sample(\"d\", 0.00))\n",
    "print()\n",
    "print(\"A 'b' with 30% noise, meaning 30 out of 100 cells have been randomly flipped:\")\n",
    "print(generate_sample(\"d\", 0.30))"
   ]
  },
  {
   "cell_type": "markdown",
   "id": "1a38b2bb",
   "metadata": {},
   "source": [
    "Luego se generan 3 datasets que contengan 100, 500 y 1000 ejemplos. \n",
    "El 10% serán patrones sin distorsionar y el resto con una distorsión del 1% al 30%.\n",
    "Se usará una **distribución uniforme** para ubicar el 90% de ejemplos en el rango de distorsión entre 0.01 y 0.30.\n",
    "\n",
    "Cada dataset será un `pd.DataFrame` de `pandas` que contiene columnas del `0` al `99` (una por cada celda de la matriz) y una columna final `class` que indica la clase del patrón ('b', 'd' o 'f').\n"
   ]
  },
  {
   "cell_type": "code",
   "execution_count": null,
   "id": "1b187c0f",
   "metadata": {},
   "outputs": [
    {
     "name": "stdout",
     "output_type": "stream",
     "text": [
      "El dataset de 1000 ejemplos es el siguiente:\n",
      "     0  1  2  3  4  5  6  7  8  9  ...  91  92  93  94  95  96  97  98  99  class\n",
      "0    0  0  0  0  0  0  0  0  0  0  ...   0   0   0   0   0   0   0   0   0      f\n",
      "1    0  0  0  0  0  0  0  0  0  0  ...   0   0   0   0   0   0   0   0   0      b\n",
      "2    0  0  0  0  0  0  0  0  0  0  ...   0   0   0   0   0   0   0   0   0      d\n",
      "3    0  0  0  0  0  0  0  0  0  0  ...   0   0   0   0   0   0   0   0   0      f\n",
      "4    0  0  0  0  0  0  0  0  0  0  ...   0   0   0   0   0   0   0   0   0      f\n",
      "..  .. .. .. .. .. .. .. .. .. ..  ...  ..  ..  ..  ..  ..  ..  ..  ..  ..    ...\n",
      "995  0  0  0  0  0  0  0  0  0  1  ...   0   0   0   0   0   0   0   0   0      f\n",
      "996  0  1  0  0  0  0  0  0  0  0  ...   0   0   0   0   0   0   0   0   0      d\n",
      "997  0  0  0  0  0  0  0  0  0  0  ...   0   0   0   0   0   0   0   0   0      f\n",
      "998  0  1  0  0  0  0  0  1  0  0  ...   0   0   0   0   0   0   0   0   0      d\n",
      "999  0  0  1  0  0  0  0  0  0  0  ...   0   0   0   0   0   1   0   0   0      b\n",
      "\n",
      "[1000 rows x 101 columns]\n"
     ]
    }
   ],
   "source": [
    "import pandas as pd\n",
    "\n",
    "# Extender el ancho máximo al mostrar DataFrames para que entren en una sola línea.\n",
    "pd.options.display.width = 100\n",
    "\n",
    "\n",
    "def generate_dataset(n_samples: int):\n",
    "    \"\"\"\n",
    "    Generates a dataset of pattern samples.\n",
    "    The 90% of samples will have noise between 0.01 and 0.30.\n",
    "    Args:\n",
    "        n_samples (int): Number of samples to generate.\n",
    "    Returns:\n",
    "        pd.DataFrame: with 100 columns for flattened pattern and 1 column 'class' for pattern class.\n",
    "    \"\"\"\n",
    "    columns = [str(i) for i in range(100)] + [\"class\"]\n",
    "    df = pd.DataFrame(0, index=np.arange(n_samples), columns=columns)\n",
    "    df = df.astype({\"class\": \"str\"})\n",
    "\n",
    "    for i in range(n_samples):\n",
    "        # 10% sin distorsión, 90% con distorsión entre 1% y 30%\n",
    "        if i < int(0.1 * n_samples):\n",
    "            noise = 0.0\n",
    "        else:\n",
    "            noise = np.random.uniform(0.01, 0.30)\n",
    "\n",
    "        # Seleccionar un patrón al azar\n",
    "        pattern = np.random.choice(list(PATTERNS.keys()))\n",
    "\n",
    "        sample = generate_sample(pattern, noise).flatten()\n",
    "        df.iloc[i, :100] = sample\n",
    "        df.loc[i, \"class\"] = pattern\n",
    "\n",
    "    return df\n",
    "\n",
    "\n",
    "df_100 = generate_dataset(100)\n",
    "df_500 = generate_dataset(500)\n",
    "df_1000 = generate_dataset(1000)\n",
    "\n",
    "print(\"El dataset de 1000 ejemplos es el siguiente:\")\n",
    "print(df_1000)"
   ]
  },
  {
   "cell_type": "markdown",
   "id": "4ea4837b",
   "metadata": {},
   "source": [
    "Por cada dataset deberán construirse tres conjuntos de validación con 10%, 20% y 30% de los ejemplos.\n"
   ]
  },
  {
   "cell_type": "code",
   "execution_count": null,
   "id": "778a91fe",
   "metadata": {},
   "outputs": [],
   "source": [
    "VALIDATION_SPLITS = [0.1, 0.2, 0.3]\n",
    "\n",
    "# TODO: ..."
   ]
  }
 ],
 "metadata": {
  "kernelspec": {
   "display_name": "mlp",
   "language": "python",
   "name": "mlp"
  },
  "language_info": {
   "codemirror_mode": {
    "name": "ipython",
    "version": 3
   },
   "file_extension": ".py",
   "mimetype": "text/x-python",
   "name": "python",
   "nbconvert_exporter": "python",
   "pygments_lexer": "ipython3",
   "version": "3.13.7"
  }
 },
 "nbformat": 4,
 "nbformat_minor": 5
}

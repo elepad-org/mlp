{
 "cells": [
  {
   "cell_type": "markdown",
   "id": "f42b5a73",
   "metadata": {},
   "source": [
    "# 🤖 Multilayer Perceptron\n",
    "\n",
    "Esta Jupyter Notebook implementa una MLP para detectar patrones en una matriz 10x10.\n",
    "Se genera un dataset para luego entrenar el modelo y validarlo.\n",
    "Se evalúa la precisión para reiterar sobre el modelo con el objetivo de mejorar su eficacia.\n",
    "Finalmente se exporta el modelo para ser utilizado en la aplicación web.\n"
   ]
  },
  {
   "cell_type": "markdown",
   "id": "a941e0c6",
   "metadata": {
    "vscode": {
     "languageId": "plaintext"
    }
   },
   "source": [
    "## 📋 Situación\n",
    "\n",
    "En una matriz 10x10 se debe poder detectar las letras `b`, `d`, `f` que se corresponden a los siguientes patrones:\n",
    "\n",
    "![Patrones que el MLP deberá reconocer](assets/patterns.png)\n",
    "\n",
    "Ante un dato nuevo, el MLP deberá ser capaz de clasificar el contenido de esa matriz en uno de los tres patrones.\n"
   ]
  },
  {
   "cell_type": "markdown",
   "id": "5c64b1e6",
   "metadata": {},
   "source": [
    "## 🗃️ Dataset\n",
    "\n",
    "Se generan 3 datasets que contengan 100, 500 y 1000 ejemplos. \n",
    "El 10% serán patrones sin distorsionar y el resto con una distorsión del 1% al 30%.\n",
    "Los datasets deberán ser representativos a la hora de definir la distribución de los ejemplos de entrenamiento.\n",
    "Por cada dataset deberán construirse tres conjuntos de validación con 10%, 20% y 30% de los ejemplos.\n",
    "\n",
    "En `dataset.py` se definen funciones de Python para ayudar a generar los datasets.\n"
   ]
  },
  {
   "cell_type": "code",
   "execution_count": 13,
   "id": "c45330a4",
   "metadata": {},
   "outputs": [
    {
     "name": "stdout",
     "output_type": "stream",
     "text": [
      "A 'b' pattern with zero noise:\n",
      "[[0 0 0 0 0 0 0 0 0 0]\n",
      " [0 0 0 0 0 0 0 1 0 0]\n",
      " [0 0 0 0 0 0 0 1 0 0]\n",
      " [0 0 0 0 0 0 0 1 0 0]\n",
      " [0 0 0 1 1 1 1 1 0 0]\n",
      " [0 0 1 0 0 0 0 1 0 0]\n",
      " [0 0 1 0 0 0 0 1 0 0]\n",
      " [0 0 1 0 0 0 0 1 0 0]\n",
      " [0 0 0 1 1 1 1 1 0 0]\n",
      " [0 0 0 0 0 0 0 0 0 0]]\n",
      "\n",
      "A 'b' with 30% noise, meaning 30 out of 100 cells have been randomly flipped:\n",
      "[[1 1 0 0 0 0 0 0 0 0]\n",
      " [1 0 0 0 0 0 0 1 0 0]\n",
      " [0 0 0 1 1 0 0 0 0 0]\n",
      " [1 0 0 1 0 0 0 1 0 0]\n",
      " [0 0 1 1 0 1 1 1 0 0]\n",
      " [0 1 1 1 0 1 0 1 1 1]\n",
      " [1 0 1 0 0 0 0 1 1 0]\n",
      " [0 1 1 1 0 1 1 1 1 0]\n",
      " [1 1 1 0 0 0 1 0 0 0]\n",
      " [0 0 0 0 0 0 0 1 0 0]]\n"
     ]
    }
   ],
   "source": [
    "import numpy as np\n",
    "\n",
    "# Define the 10x10 patterns for 'b', 'd', and 'f'\n",
    "PATTERNS = {\n",
    "    \"b\": np.array(\n",
    "        [\n",
    "            [0, 0, 0, 0, 0, 0, 0, 0, 0, 0],\n",
    "            [0, 0, 1, 0, 0, 0, 0, 0, 0, 0],\n",
    "            [0, 0, 1, 0, 0, 0, 0, 0, 0, 0],\n",
    "            [0, 0, 1, 0, 0, 0, 0, 0, 0, 0],\n",
    "            [0, 0, 1, 1, 1, 1, 1, 0, 0, 0],\n",
    "            [0, 0, 1, 0, 0, 0, 0, 1, 0, 0],\n",
    "            [0, 0, 1, 0, 0, 0, 0, 1, 0, 0],\n",
    "            [0, 0, 1, 0, 0, 0, 0, 1, 0, 0],\n",
    "            [0, 0, 1, 1, 1, 1, 1, 0, 0, 0],\n",
    "            [0, 0, 0, 0, 0, 0, 0, 0, 0, 0],\n",
    "        ],\n",
    "        dtype=np.uint8,\n",
    "    ),\n",
    "    \"d\": np.array(\n",
    "        [\n",
    "            [0, 0, 0, 0, 0, 0, 0, 0, 0, 0],\n",
    "            [0, 0, 0, 0, 0, 0, 0, 1, 0, 0],\n",
    "            [0, 0, 0, 0, 0, 0, 0, 1, 0, 0],\n",
    "            [0, 0, 0, 0, 0, 0, 0, 1, 0, 0],\n",
    "            [0, 0, 0, 1, 1, 1, 1, 1, 0, 0],\n",
    "            [0, 0, 1, 0, 0, 0, 0, 1, 0, 0],\n",
    "            [0, 0, 1, 0, 0, 0, 0, 1, 0, 0],\n",
    "            [0, 0, 1, 0, 0, 0, 0, 1, 0, 0],\n",
    "            [0, 0, 0, 1, 1, 1, 1, 1, 0, 0],\n",
    "            [0, 0, 0, 0, 0, 0, 0, 0, 0, 0],\n",
    "        ],\n",
    "        dtype=np.uint8,\n",
    "    ),\n",
    "    \"f\": np.array(\n",
    "        [\n",
    "            [0, 0, 0, 0, 0, 0, 0, 0, 0, 0],\n",
    "            [0, 0, 0, 0, 0, 1, 1, 0, 0, 0],\n",
    "            [0, 0, 0, 0, 1, 0, 0, 1, 0, 0],\n",
    "            [0, 0, 0, 0, 1, 0, 0, 0, 0, 0],\n",
    "            [0, 0, 1, 1, 1, 1, 1, 0, 0, 0],\n",
    "            [0, 0, 0, 0, 1, 0, 0, 0, 0, 0],\n",
    "            [0, 0, 0, 0, 1, 0, 0, 0, 0, 0],\n",
    "            [0, 0, 0, 0, 1, 0, 0, 0, 0, 0],\n",
    "            [0, 0, 0, 0, 1, 0, 0, 0, 0, 0],\n",
    "            [0, 0, 0, 0, 0, 0, 0, 0, 0, 0],\n",
    "        ],\n",
    "        dtype=np.uint8,\n",
    "    ),\n",
    "}\n",
    "\n",
    "\n",
    "def generate_sample(pattern, noise=0.0):\n",
    "    \"\"\"\n",
    "    Generates a 10x10 matrix based on a given pattern letter ('b', 'd', or 'f'), with optional noise.\n",
    "    Args:\n",
    "        pattern (str): One of 'b', 'd', or 'f'.\n",
    "        noise (float): Proportion of pixels to flip.\n",
    "    Returns:\n",
    "        np.ndarray: A 10x10 numpy array with the pattern and noise applied.\n",
    "    \"\"\"\n",
    "    assert pattern in PATTERNS, \"Pattern must be one of 'b', 'd', or 'f'\"\n",
    "    assert 0.0 <= noise <= 0.30, \"Noise must be between 0.0 and 0.30\"\n",
    "\n",
    "    matrix = PATTERNS[pattern].copy()\n",
    "    num_pixels = matrix.size\n",
    "    num_noisy = int(noise * num_pixels)\n",
    "\n",
    "    if num_noisy > 0:\n",
    "        # Choose random indices to flip\n",
    "        indices = np.unravel_index(\n",
    "            np.random.choice(num_pixels, num_noisy, replace=False), matrix.shape\n",
    "        )\n",
    "        # Flip the selected pixels (0->1, 1->0)\n",
    "        matrix[indices] = 1 - matrix[indices]\n",
    "\n",
    "    return matrix\n",
    "\n",
    "\n",
    "print(\"A 'b' pattern with zero noise:\")\n",
    "print(generate_sample(\"d\", 0.00))\n",
    "print()\n",
    "print(\"A 'b' with 30% noise, meaning 30 out of 100 cells have been randomly flipped:\")\n",
    "print(generate_sample(\"d\", 0.30))"
   ]
  }
 ],
 "metadata": {
  "kernelspec": {
   "display_name": "mlp",
   "language": "python",
   "name": "mlp"
  },
  "language_info": {
   "codemirror_mode": {
    "name": "ipython",
    "version": 3
   },
   "file_extension": ".py",
   "mimetype": "text/x-python",
   "name": "python",
   "nbconvert_exporter": "python",
   "pygments_lexer": "ipython3",
   "version": "3.13.7"
  }
 },
 "nbformat": 4,
 "nbformat_minor": 5
}
